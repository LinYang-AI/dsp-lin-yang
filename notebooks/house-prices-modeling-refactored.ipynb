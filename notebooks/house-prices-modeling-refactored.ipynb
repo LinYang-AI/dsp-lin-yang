{
 "cells": [
  {
   "cell_type": "code",
   "execution_count": 36,
   "metadata": {},
   "outputs": [],
   "source": [
    "import os\n",
    "import pandas as pd\n",
    "import category_encoders as ce\n",
    "from sklearn.preprocessing import StandardScaler\n",
    "from sklearn.model_selection import train_test_split\n",
    "\n",
    "\n",
    "def preprocessing(file_name):\n",
    "    PATH = os.path.join('..', 'data', 'house-prices-advanced-regression-techniques')\n",
    "    FILE_PATH = os.path.join(PATH, file_name)\n",
    "\n",
    "    df = pd.read_csv(FILE_PATH)\n",
    "    # Load the data set\n",
    "    col_drop = df.columns[df.nunique()==1]\n",
    "    df.drop(col_drop, axis=1, inplace=True)\n",
    "    df.head()\n",
    "\n",
    "    # Preprocessing the dataset\n",
    "\n",
    "    # Spliting the training, validation, and test sets.\n",
    "    Xtrain = df.copy()\n",
    "    ytrain = Xtrain.loc[:,['SalePrice']]\n",
    "    Xtrain = Xtrain.drop('SalePrice', axis = 1)\n",
    "    # Xtrain.head()\n",
    "\n",
    "    # split train and validation dataset\n",
    "    Xtrain, Xtest, ytrain, ytest = train_test_split(Xtrain, ytrain, test_size = 0.2, random_state = 42)\n",
    "    Xval, Xtest, yval, ytest = train_test_split(Xtest, ytest, test_size = 0.5, random_state = 42)\n",
    "\n",
    "    # Encoding the datasets\n",
    "\n",
    "    # get the binary categorical colums\n",
    "    bin_cols = Xtrain.select_dtypes(include=['object']).columns[Xtrain.select_dtypes(include=['object']).nunique() == 2].tolist()\n",
    "    # get the rest categorical columns\n",
    "    ord_cols = [col for col in Xtrain.columns if col not in bin_cols and Xtrain[col].dtype == 'object']\n",
    "    # get the numerical categorical columns\n",
    "    num_cols = Xtrain.select_dtypes(include=['int64', 'float64']).columns\n",
    "    # ensure the numerical columns have only numerical values\n",
    "    Xtrain[num_cols] = Xtrain[num_cols].apply(pd.to_numeric, errors='coerce')\n",
    "\n",
    "    # create encoder\n",
    "    std = StandardScaler()\n",
    "    cte = ce.CountEncoder(cols=ord_cols, normalize=True, handle_unknown='value')\n",
    "    ohe = ce.OneHotEncoder(cols=bin_cols, use_cat_names=False, handle_unknown='value')\n",
    "    be = ce.BinaryEncoder(cols=bin_cols)\n",
    "\n",
    "\n",
    "    # encode the price with StandardScaler\n",
    "    std_label = StandardScaler()\n",
    "    ytrain_encoded = pd.DataFrame(std_label.fit_transform(ytrain), columns=ytrain.columns)\n",
    "    yval_encoded = pd.DataFrame(std_label.transform(yval), columns = yval.columns)\n",
    "\n",
    "\n",
    "    # encoding the features\n",
    "    # one-hot encoding the binary features\n",
    "    Xtrain_encoded = ohe.fit_transform(Xtrain)\n",
    "    Xval_encoded = ohe.transform(Xval)\n",
    "    Xtest_encoded = ohe.transform(Xtest)\n",
    "\n",
    "    Xtrain_encoded = cte.fit_transform(Xtrain_encoded)\n",
    "    Xval_encoded = cte.transform(Xval_encoded)\n",
    "    Xtest_encoded = cte.transform(Xtest_encoded)\n",
    "\n",
    "    Xtrain_scaled = std.fit_transform(Xtrain_encoded[num_cols])\n",
    "    Xtrain_encoded[num_cols] = Xtrain_scaled\n",
    "    Xval_scaled = std.transform(Xval_encoded[num_cols])\n",
    "    Xval_encoded[num_cols] = Xval_scaled\n",
    "    Xtest_scaled = std.transform(Xtest_encoded[num_cols])\n",
    "    Xtest_encoded[num_cols] = Xtest_scaled\n",
    "    \n",
    "    # save the processed dataframes in parquet format\n",
    "    # processed_df.to_parquet('/my/filapth/processed_df.parquet', index=False)\n",
    "    Xtrain_encoded.to_parquet('../data/house-prices-advanced-regression-techniques/Xtrain_encoded.parquet', index = True)\n",
    "    ytrain_encoded.to_parquet('../data/house-prices-advanced-regression-techniques/ytrain_encoded.parquet', index = False)\n",
    "    Xval_encoded.to_parquet( '../data/house-prices-advanced-regression-techniques/Xval_encoded.parquet', index = True)\n",
    "    yval_encoded.to_parquet('../data/house-prices-advanced-regression-techniques/yval_encoded.parquet', index = False)\n",
    "    Xtest_encoded.to_parquet('../data/house-prices-advanced-regression-techniques/Xtest_encoded.parquet', index = True)\n",
    "    \n",
    "    return Xtrain_encoded, ytrain_encoded, Xval_encoded, yval_encoded, Xtest_encoded\n"
   ]
  },
  {
   "cell_type": "code",
   "execution_count": 37,
   "metadata": {},
   "outputs": [],
   "source": [
    "Xtrain_encoded, ytrain_encoded, Xval_encoded, yval_encoded, Xtest_encoded = preprocessing('train.csv')"
   ]
  },
  {
   "cell_type": "code",
   "execution_count": 38,
   "metadata": {},
   "outputs": [],
   "source": [
    "# correctly_processed_df = pd.read_parquet('/my/filapth/processed_df.parquet')\n",
    "Xtrain_processed_df = pd.read_parquet('../data/house-prices-advanced-regression-techniques/Xtrain_encoded.parquet')\n",
    "Xval_processed_df = pd.read_parquet('../data/house-prices-advanced-regression-techniques/Xval_encoded.parquet')\n",
    "Xtest_processed_df = pd.read_parquet('../data/house-prices-advanced-regression-techniques/Xtest_encoded.parquet')"
   ]
  },
  {
   "cell_type": "code",
   "execution_count": 39,
   "metadata": {},
   "outputs": [],
   "source": [
    "ytrain_processed_df = pd.read_parquet('../data/house-prices-advanced-regression-techniques/ytrain_encoded.parquet')\n",
    "yval_processed_df = pd.read_parquet('../data/house-prices-advanced-regression-techniques/yval_encoded.parquet')"
   ]
  },
  {
   "cell_type": "code",
   "execution_count": 40,
   "metadata": {},
   "outputs": [],
   "source": [
    "# pd.testing.assert_frame_equal(my_new_processed_df, correctly_processed_df)\n",
    "pd.testing.assert_frame_equal(Xtrain_encoded, Xtrain_processed_df)"
   ]
  },
  {
   "cell_type": "code",
   "execution_count": 41,
   "metadata": {},
   "outputs": [],
   "source": [
    "pd.testing.assert_frame_equal(Xval_encoded, Xval_processed_df)"
   ]
  },
  {
   "cell_type": "code",
   "execution_count": 42,
   "metadata": {},
   "outputs": [],
   "source": [
    "pd.testing.assert_frame_equal(Xtest_encoded, Xtest_processed_df)"
   ]
  },
  {
   "cell_type": "code",
   "execution_count": 43,
   "metadata": {},
   "outputs": [],
   "source": [
    "pd.testing.assert_frame_equal(ytrain_encoded, ytrain_processed_df)"
   ]
  },
  {
   "cell_type": "code",
   "execution_count": 44,
   "metadata": {},
   "outputs": [],
   "source": [
    "pd.testing.assert_frame_equal(yval_encoded, yval_processed_df)"
   ]
  },
  {
   "cell_type": "code",
   "execution_count": null,
   "metadata": {},
   "outputs": [],
   "source": []
  }
 ],
 "metadata": {
  "kernelspec": {
   "display_name": "dsp",
   "language": "python",
   "name": "python3"
  },
  "language_info": {
   "codemirror_mode": {
    "name": "ipython",
    "version": 3
   },
   "file_extension": ".py",
   "mimetype": "text/x-python",
   "name": "python",
   "nbconvert_exporter": "python",
   "pygments_lexer": "ipython3",
   "version": "3.9.16"
  },
  "orig_nbformat": 4
 },
 "nbformat": 4,
 "nbformat_minor": 2
}
